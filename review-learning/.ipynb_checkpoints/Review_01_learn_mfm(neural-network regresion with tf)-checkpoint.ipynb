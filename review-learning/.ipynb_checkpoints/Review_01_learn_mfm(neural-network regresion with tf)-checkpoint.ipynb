{
 "cells": [
  {
   "cell_type": "markdown",
   "id": "d1ca17cd",
   "metadata": {},
   "source": [
    "# Neural Network, Regresion Problem"
   ]
  },
  {
   "cell_type": "code",
   "execution_count": 15,
   "id": "cf872b91",
   "metadata": {},
   "outputs": [
    {
     "name": "stderr",
     "output_type": "stream",
     "text": [
      "2022-10-30 07:29:26.869796: W tensorflow/stream_executor/platform/default/dso_loader.cc:64] Could not load dynamic library 'libcudart.so.11.0'; dlerror: libcudart.so.11.0: cannot open shared object file: No such file or directory\n",
      "2022-10-30 07:29:26.869842: I tensorflow/stream_executor/cuda/cudart_stub.cc:29] Ignore above cudart dlerror if you do not have a GPU set up on your machine.\n"
     ]
    }
   ],
   "source": [
    "import tensorflow as tf\n",
    "import numpy as np\n",
    "import pandas as pd\n",
    "import matplotlib.pyplot as plt"
   ]
  },
  {
   "cell_type": "code",
   "execution_count": 21,
   "id": "8c25cec9",
   "metadata": {},
   "outputs": [],
   "source": [
    "X = tf.constant(np.arange(-10, 40,3))\n",
    "y = tf.constant(np.arange (0,49,3))"
   ]
  },
  {
   "cell_type": "code",
   "execution_count": 22,
   "id": "54059a4c",
   "metadata": {},
   "outputs": [
    {
     "data": {
      "text/plain": [
       "(17, 17)"
      ]
     },
     "execution_count": 22,
     "metadata": {},
     "output_type": "execute_result"
    }
   ],
   "source": [
    "len(X),len(y)"
   ]
  },
  {
   "cell_type": "code",
   "execution_count": 19,
   "id": "002fa59b",
   "metadata": {},
   "outputs": [
    {
     "data": {
      "text/plain": [
       "<matplotlib.collections.PathCollection at 0x7f79a00e3b20>"
      ]
     },
     "execution_count": 19,
     "metadata": {},
     "output_type": "execute_result"
    },
    {
     "data": {
      "image/png": "[encoded data removed]",
      "text/plain": [
       "<Figure size 432x288 with 1 Axes>"
      ]
     },
     "metadata": {
      "needs_background": "light"
     },
     "output_type": "display_data"
    }
   ],
   "source": [
    "plt.scatter(X,y)"
   ]
  },
  {
   "cell_type": "markdown",
   "id": "fcf96e44",
   "metadata": {},
   "source": [
    "## Membuat model"
   ]
  },
  {
   "cell_type": "code",
   "execution_count": 89,
   "id": "9feed6d0",
   "metadata": {},
   "outputs": [
    {
     "data": {
      "text/plain": [
       "<keras.callbacks.History at 0x7f7982dd9fd0>"
      ]
     },
     "execution_count": 89,
     "metadata": {},
     "output_type": "execute_result"
    }
   ],
   "source": [
    "tf.random.set_seed(42)\n",
    "model = tf.keras.Sequential(\n",
    "[tf.keras.layers.Dense(1000, input_shape=[1], activation=\"relu\"),\n",
    "tf.keras.layers.Dense(1000),\n",
    " tf.keras.layers.Dense(1000),\n",
    "tf.keras.layers.Dense(1)]\n",
    ")\n",
    "\n",
    "model.compile(\n",
    "loss = tf.keras.losses.mae,\n",
    "optimizer = tf.keras.optimizers.Adam(lr=.001),\n",
    "metrics=[\"mae\"])\n",
    "\n",
    "model.fit(X,y, epochs=2000, verbose=False)"
   ]
  },
  {
   "cell_type": "code",
   "execution_count": 90,
   "id": "07f8c6e7",
   "metadata": {},
   "outputs": [
    {
     "name": "stdout",
     "output_type": "stream",
     "text": [
      "1/1 [==============================] - 0s 119ms/step - loss: 0.0868 - mae: 0.0868\n"
     ]
    },
    {
     "data": {
      "text/plain": [
       "[0.08677902072668076, 0.08677902072668076]"
      ]
     },
     "execution_count": 90,
     "metadata": {},
     "output_type": "execute_result"
    }
   ],
   "source": [
    "model.evaluate([1,2,3,4,5],[11,12,13,14,15])"
   ]
  },
  {
   "cell_type": "code",
   "execution_count": 91,
   "id": "bda5b156",
   "metadata": {},
   "outputs": [
    {
     "name": "stdout",
     "output_type": "stream",
     "text": [
      "1/1 [==============================] - 0s 63ms/step\n"
     ]
    },
    {
     "data": {
      "text/plain": [
       "array([[20.234043]], dtype=float32)"
      ]
     },
     "execution_count": 91,
     "metadata": {},
     "output_type": "execute_result"
    }
   ],
   "source": [
    "model.predict([10])"
   ]
  },
  {
   "cell_type": "code",
   "execution_count": 92,
   "id": "14a5cea3",
   "metadata": {},
   "outputs": [
    {
     "name": "stdout",
     "output_type": "stream",
     "text": [
      "1/1 [==============================] - 0s 41ms/step\n"
     ]
    },
    {
     "data": {
      "text/plain": [
       "array([[113.07723 ],\n",
       "       [ 15.123881],\n",
       "       [ 17.16938 ],\n",
       "       [ 18.191341],\n",
       "       [ 19.21288 ],\n",
       "       [ 11.070975],\n",
       "       [ 28.437817]], dtype=float32)"
      ]
     },
     "execution_count": 92,
     "metadata": {},
     "output_type": "execute_result"
    }
   ],
   "source": [
    "model.predict([100,5,7,8,9,1,18])"
   ]
  }
 ],
 "metadata": {
  "kernelspec": {
   "display_name": "Python 3 (ipykernel)",
   "language": "python",
   "name": "python3"
  },
  "language_info": {
   "codemirror_mode": {
    "name": "ipython",
    "version": 3
   },
   "file_extension": ".py",
   "mimetype": "text/x-python",
   "name": "python",
   "nbconvert_exporter": "python",
   "pygments_lexer": "ipython3",
   "version": "3.9.12"
  },
  "toc": {
   "base_numbering": 1,
   "nav_menu": {},
   "number_sections": true,
   "sideBar": true,
   "skip_h1_title": false,
   "title_cell": "Table of Contents",
   "title_sidebar": "Contents",
   "toc_cell": false,
   "toc_position": {},
   "toc_section_display": true,
   "toc_window_display": true
  }
 },
 "nbformat": 4,
 "nbformat_minor": 5
}
