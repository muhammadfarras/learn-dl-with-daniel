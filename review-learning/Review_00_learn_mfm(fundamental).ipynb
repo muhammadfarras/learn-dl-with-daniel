{
 "cells": [
  {
   "cell_type": "code",
   "execution_count": 94,
   "id": "264af71c",
   "metadata": {},
   "outputs": [],
   "source": [
    "import tensorflow as tf\n",
    "\n",
    "def docs(func):\n",
    "    \"\"\"Fungsi untuk menampilkan dokumentasi\"\"\"\n",
    "    \n",
    "    \n",
    "    print(func.__doc__)"
   ]
  },
  {
   "cell_type": "markdown",
   "id": "e6a0fbb0",
   "metadata": {},
   "source": [
    "## Membuat tensor"
   ]
  },
  {
   "cell_type": "markdown",
   "id": "398eea69",
   "metadata": {},
   "source": [
    "### menggunakan python iterable"
   ]
  },
  {
   "cell_type": "code",
   "execution_count": 2,
   "id": "265b31e1",
   "metadata": {},
   "outputs": [
    {
     "ename": "NameError",
     "evalue": "name 'tf' is not defined",
     "output_type": "error",
     "traceback": [
      "\u001b[0;31m---------------------------------------------------------------------------\u001b[0m",
      "\u001b[0;31mNameError\u001b[0m                                 Traceback (most recent call last)",
      "Input \u001b[0;32mIn [2]\u001b[0m, in \u001b[0;36m<cell line: 1>\u001b[0;34m()\u001b[0m\n\u001b[0;32m----> 1\u001b[0m unchangeable_tensor \u001b[38;5;241m=\u001b[39m \u001b[43mtf\u001b[49m\u001b[38;5;241m.\u001b[39mconstant((\u001b[38;5;241m8\u001b[39m,\u001b[38;5;241m0\u001b[39m,\u001b[38;5;241m2\u001b[39m,\u001b[38;5;241m7\u001b[39m))\n\u001b[1;32m      2\u001b[0m unchangeable_tensor\n",
      "\u001b[0;31mNameError\u001b[0m: name 'tf' is not defined"
     ]
    }
   ],
   "source": [
    "unchangeable_tensor = tf.constant((8,0,2,7))\n",
    "unchangeable_tensor"
   ]
  },
  {
   "cell_type": "markdown",
   "id": "382eeba9",
   "metadata": {},
   "source": [
    "### menggunakan numpy"
   ]
  },
  {
   "cell_type": "code",
   "execution_count": null,
   "id": "9bd9a996",
   "metadata": {},
   "outputs": [],
   "source": [
    "# import numpy\n",
    "import numpy as np"
   ]
  },
  {
   "cell_type": "code",
   "execution_count": null,
   "id": "b4c0d6c8",
   "metadata": {},
   "outputs": [],
   "source": [
    "X = np.arange(0,10,.5)"
   ]
  },
  {
   "cell_type": "code",
   "execution_count": 3,
   "id": "1bcfe594",
   "metadata": {},
   "outputs": [
    {
     "ename": "NameError",
     "evalue": "name 'tf' is not defined",
     "output_type": "error",
     "traceback": [
      "\u001b[0;31m---------------------------------------------------------------------------\u001b[0m",
      "\u001b[0;31mNameError\u001b[0m                                 Traceback (most recent call last)",
      "Input \u001b[0;32mIn [3]\u001b[0m, in \u001b[0;36m<cell line: 1>\u001b[0;34m()\u001b[0m\n\u001b[0;32m----> 1\u001b[0m tensor_X \u001b[38;5;241m=\u001b[39m \u001b[43mtf\u001b[49m\u001b[38;5;241m.\u001b[39mconstant(X)\n\u001b[1;32m      2\u001b[0m tensor_X\n",
      "\u001b[0;31mNameError\u001b[0m: name 'tf' is not defined"
     ]
    }
   ],
   "source": [
    "tensor_X = tf.constant(X)\n",
    "tensor_X"
   ]
  },
  {
   "cell_type": "markdown",
   "id": "5d50c3ad",
   "metadata": {
    "slideshow": {
     "slide_type": "-"
    }
   },
   "source": [
    "### menggunakan nilai acak\n",
    "membuat tensor dengan nilai acak dengan 2 dimensi dan shape 4,4\n",
    "* Menggunakan normal distribution\n",
    "* Menggunakan uniform"
   ]
  },
  {
   "cell_type": "code",
   "execution_count": 25,
   "id": "a6fb45c6",
   "metadata": {
    "slideshow": {
     "slide_type": "-"
    }
   },
   "outputs": [
    {
     "data": {
      "text/plain": [
       "<tf.Tensor: shape=(4, 4), dtype=float32, numpy=\n",
       "array([[ 0.3274685 , -0.8426258 ,  0.3194337 , -1.4075519 ],\n",
       "       [-2.3880599 , -1.0392479 , -0.5573232 ,  0.539707  ],\n",
       "       [ 1.6994323 ,  0.28893656, -1.5066116 , -0.26454744],\n",
       "       [-0.59722406, -1.9171132 , -0.62044144,  0.8504023 ]],\n",
       "      dtype=float32)>"
      ]
     },
     "execution_count": 25,
     "metadata": {},
     "output_type": "execute_result"
    }
   ],
   "source": [
    "tf.random.set_seed(42)\n",
    "acak_normal_Z = tf.random.normal((4,4))\n",
    "acak_normal_Z"
   ]
  },
  {
   "cell_type": "code",
   "execution_count": 24,
   "id": "4d287ca2",
   "metadata": {},
   "outputs": [
    {
     "data": {
      "text/plain": [
       "<tf.Tensor: shape=(4, 4), dtype=float32, numpy=\n",
       "array([[0.6645621 , 0.44100678, 0.3528825 , 0.46448255],\n",
       "       [0.03366041, 0.68467236, 0.74011743, 0.8724445 ],\n",
       "       [0.22632635, 0.22319686, 0.3103881 , 0.7223358 ],\n",
       "       [0.13318717, 0.5480639 , 0.5746088 , 0.8996835 ]], dtype=float32)>"
      ]
     },
     "execution_count": 24,
     "metadata": {},
     "output_type": "execute_result"
    }
   ],
   "source": [
    "tf.random.set_seed(42)\n",
    "acak_uniform_Z = tf.random.uniform((4,4))\n",
    "acak_uniform_Z"
   ]
  },
  {
   "cell_type": "markdown",
   "id": "613d54d3",
   "metadata": {},
   "source": [
    "## Merubah tensor"
   ]
  },
  {
   "cell_type": "markdown",
   "id": "172d6688",
   "metadata": {},
   "source": [
    "### merubah nilai tensor"
   ]
  },
  {
   "cell_type": "code",
   "execution_count": 19,
   "id": "5d3ee4c4",
   "metadata": {},
   "outputs": [
    {
     "data": {
      "text/plain": [
       "<tf.Variable 'Variable:0' shape=(2, 2) dtype=int32, numpy=\n",
       "array([[8, 0],\n",
       "       [2, 7]], dtype=int32)>"
      ]
     },
     "execution_count": 19,
     "metadata": {},
     "output_type": "execute_result"
    }
   ],
   "source": [
    "X = tf.Variable([[8,0],[2,7]])\n",
    "X"
   ]
  },
  {
   "cell_type": "code",
   "execution_count": 42,
   "id": "705d1c99",
   "metadata": {},
   "outputs": [
    {
     "data": {
      "text/plain": [
       "<tf.Variable 'Variable:0' shape=(2, 2) dtype=int32, numpy=\n",
       "array([[ 8, 10],\n",
       "       [ 2,  7]], dtype=int32)>"
      ]
     },
     "execution_count": 42,
     "metadata": {},
     "output_type": "execute_result"
    }
   ],
   "source": [
    "X[0,1].assign(10)\n",
    "X"
   ]
  },
  {
   "cell_type": "markdown",
   "id": "dfb18a9d",
   "metadata": {},
   "source": [
    "Tensor yang dibuat dengan *constant* tidak dapat dirubah nilainya."
   ]
  },
  {
   "cell_type": "code",
   "execution_count": 50,
   "id": "88e915f7",
   "metadata": {},
   "outputs": [
    {
     "name": "stdout",
     "output_type": "stream",
     "text": [
      "'tensorflow.python.framework.ops.EagerTensor' object has no attribute 'assign'\n"
     ]
    }
   ],
   "source": [
    "X_constant = tf.constant([[8,0],[2,7]])\n",
    "try:\n",
    "    X_constant[1,1].assign(20)\n",
    "except Exception as e:\n",
    "    print(e)"
   ]
  },
  {
   "cell_type": "markdown",
   "id": "e83773e2",
   "metadata": {},
   "source": [
    "Oke, ada solusinya"
   ]
  },
  {
   "cell_type": "code",
   "execution_count": 56,
   "id": "b476f426",
   "metadata": {},
   "outputs": [
    {
     "data": {
      "text/plain": [
       "<tf.Variable 'UnreadVariable' shape=(2, 2) dtype=int32, numpy=\n",
       "array([[  8,   0],\n",
       "       [  2, 100]], dtype=int32)>"
      ]
     },
     "execution_count": 56,
     "metadata": {},
     "output_type": "execute_result"
    }
   ],
   "source": [
    "X_constant = tf.Variable(X_constant)\n",
    "X_constant[1,1].assign(100)"
   ]
  },
  {
   "cell_type": "markdown",
   "id": "fdd13be7",
   "metadata": {},
   "source": [
    "### merubah tipe data tensor"
   ]
  },
  {
   "cell_type": "code",
   "execution_count": 61,
   "id": "114282a1",
   "metadata": {},
   "outputs": [
    {
     "data": {
      "text/plain": [
       "tf.int32"
      ]
     },
     "execution_count": 61,
     "metadata": {},
     "output_type": "execute_result"
    }
   ],
   "source": [
    "X_constant.dtype"
   ]
  },
  {
   "cell_type": "code",
   "execution_count": 81,
   "id": "c59302e0",
   "metadata": {},
   "outputs": [
    {
     "data": {
      "text/plain": [
       "tf.float32"
      ]
     },
     "execution_count": 81,
     "metadata": {},
     "output_type": "execute_result"
    }
   ],
   "source": [
    "new_X_constant = tf.cast(X_constant, dtype=tf.float32)\n",
    "new_X_constant.dtype"
   ]
  },
  {
   "cell_type": "markdown",
   "id": "70b80ad2",
   "metadata": {},
   "source": [
    "### meruba shape dari tensor"
   ]
  },
  {
   "cell_type": "code",
   "execution_count": 82,
   "id": "3fe9254b",
   "metadata": {},
   "outputs": [
    {
     "data": {
      "text/plain": [
       "TensorShape([2, 2])"
      ]
     },
     "execution_count": 82,
     "metadata": {},
     "output_type": "execute_result"
    }
   ],
   "source": [
    "new_X_constant.shape"
   ]
  },
  {
   "cell_type": "code",
   "execution_count": 83,
   "id": "1382a9cb",
   "metadata": {},
   "outputs": [
    {
     "data": {
      "text/plain": [
       "TensorShape([4])"
      ]
     },
     "execution_count": 83,
     "metadata": {},
     "output_type": "execute_result"
    }
   ],
   "source": [
    "new_X_constant = tf.reshape(new_X_constant,[4,])\n",
    "new_X_constant.shape"
   ]
  },
  {
   "cell_type": "markdown",
   "id": "3f3fe764",
   "metadata": {},
   "source": [
    "### Menghapus dimensi dengan axis yang kosong"
   ]
  },
  {
   "cell_type": "code",
   "execution_count": 133,
   "id": "c93b518d",
   "metadata": {},
   "outputs": [
    {
     "data": {
      "text/plain": [
       "(<tf.Tensor: shape=(1, 1, 1, 1, 1, 1, 1, 1, 3), dtype=int32, numpy=array([[[[[[[[[1, 5, 7]]]]]]]]], dtype=int32)>,\n",
       " <tf.Tensor: shape=(3,), dtype=int32, numpy=array([1, 5, 7], dtype=int32)>)"
      ]
     },
     "execution_count": 133,
     "metadata": {},
     "output_type": "execute_result"
    }
   ],
   "source": [
    "### Menghapus matrix kosong\n",
    "X = tf.constant([[[[[[[[[1,5,7]]]]]]]]])\n",
    "X, tf.squeeze(X)"
   ]
  },
  {
   "cell_type": "markdown",
   "id": "edf2f790",
   "metadata": {},
   "source": [
    "## Operasi dasar matematika dan perkalian matrix pada terhadap tensor"
   ]
  },
  {
   "cell_type": "code",
   "execution_count": 86,
   "id": "8a2fa5f4",
   "metadata": {},
   "outputs": [
    {
     "data": {
      "text/plain": [
       "(<tf.Tensor: shape=(2, 2), dtype=int32, numpy=\n",
       " array([[8, 9],\n",
       "        [7, 2]], dtype=int32)>,\n",
       " <tf.Tensor: shape=(2, 2), dtype=int32, numpy=\n",
       " array([[2, 1],\n",
       "        [3, 8]], dtype=int32)>)"
      ]
     },
     "execution_count": 86,
     "metadata": {},
     "output_type": "execute_result"
    }
   ],
   "source": [
    "X = tf.constant([[8,9],[7,2]])\n",
    "y = tf.constant([[2,1],[3,8]])\n",
    "X, y"
   ]
  },
  {
   "cell_type": "markdown",
   "id": "3d139002",
   "metadata": {},
   "source": [
    "### Penambahan\n",
    "Dapat menggunakan + atau `tf.math.add`"
   ]
  },
  {
   "cell_type": "code",
   "execution_count": 89,
   "id": "74b6c757",
   "metadata": {},
   "outputs": [
    {
     "data": {
      "text/plain": [
       "<tf.Tensor: shape=(2, 2), dtype=bool, numpy=\n",
       "array([[ True,  True],\n",
       "       [ True,  True]])>"
      ]
     },
     "execution_count": 89,
     "metadata": {},
     "output_type": "execute_result"
    }
   ],
   "source": [
    "X + y == tf.math.add(X,y)"
   ]
  },
  {
   "cell_type": "markdown",
   "id": "3de566ca",
   "metadata": {},
   "source": [
    "### Pengurangan\n",
    "dapat menggunakna - atau `tf.math.subtract`"
   ]
  },
  {
   "cell_type": "code",
   "execution_count": 97,
   "id": "260c7ff9",
   "metadata": {},
   "outputs": [
    {
     "data": {
      "text/plain": [
       "<tf.Tensor: shape=(2, 2), dtype=bool, numpy=\n",
       "array([[ True,  True],\n",
       "       [ True,  True]])>"
      ]
     },
     "execution_count": 97,
     "metadata": {},
     "output_type": "execute_result"
    }
   ],
   "source": [
    "X-y == tf.math.subtract(X,y)"
   ]
  },
  {
   "cell_type": "markdown",
   "id": "fbe2cb45",
   "metadata": {},
   "source": [
    "### Perkalian dan Pembagina"
   ]
  },
  {
   "cell_type": "code",
   "execution_count": 99,
   "id": "917353ea",
   "metadata": {},
   "outputs": [
    {
     "data": {
      "text/plain": [
       "(<tf.Tensor: shape=(2, 2), dtype=bool, numpy=\n",
       " array([[ True,  True],\n",
       "        [ True,  True]])>,\n",
       " <tf.Tensor: shape=(2, 2), dtype=bool, numpy=\n",
       " array([[ True,  True],\n",
       "        [ True,  True]])>)"
      ]
     },
     "execution_count": 99,
     "metadata": {},
     "output_type": "execute_result"
    }
   ],
   "source": [
    "X * y == tf.math.multiply(X,y), X / y == tf.math.divide(X,y)"
   ]
  },
  {
   "cell_type": "markdown",
   "id": "a0782a80",
   "metadata": {},
   "source": [
    "### Perkalian Matrix"
   ]
  },
  {
   "cell_type": "code",
   "execution_count": 100,
   "id": "39c404e8",
   "metadata": {},
   "outputs": [
    {
     "data": {
      "text/plain": [
       "<tf.Tensor: shape=(2, 2), dtype=bool, numpy=\n",
       "array([[False,  True],\n",
       "       [False, False]])>"
      ]
     },
     "execution_count": 100,
     "metadata": {},
     "output_type": "execute_result"
    }
   ],
   "source": [
    "X ** y == X * y"
   ]
  },
  {
   "cell_type": "code",
   "execution_count": 106,
   "id": "eb2c5ec9",
   "metadata": {},
   "outputs": [
    {
     "data": {
      "text/plain": [
       "(<tf.Tensor: shape=(2, 2), dtype=int32, numpy=\n",
       " array([[43, 80],\n",
       "        [20, 23]], dtype=int32)>,\n",
       " <tf.Tensor: shape=(2, 2), dtype=int32, numpy=\n",
       " array([[16,  9],\n",
       "        [21, 16]], dtype=int32)>)"
      ]
     },
     "execution_count": 106,
     "metadata": {},
     "output_type": "execute_result"
    }
   ],
   "source": [
    "X @ y , X * y"
   ]
  },
  {
   "cell_type": "code",
   "execution_count": null,
   "id": "b54df1dc",
   "metadata": {},
   "outputs": [],
   "source": [
    "tf.matmul(X,y)"
   ]
  },
  {
   "cell_type": "markdown",
   "id": "a6d80069",
   "metadata": {},
   "source": [
    "## Agregating tensor"
   ]
  },
  {
   "cell_type": "markdown",
   "id": "34b69cc6",
   "metadata": {},
   "source": [
    "### min, max"
   ]
  },
  {
   "cell_type": "code",
   "execution_count": 118,
   "id": "4a07e013",
   "metadata": {},
   "outputs": [
    {
     "data": {
      "text/plain": [
       "(<tf.Tensor: shape=(), dtype=int32, numpy=2>,\n",
       " <tf.Tensor: shape=(), dtype=int32, numpy=9>,\n",
       " <tf.Tensor: shape=(), dtype=int32, numpy=6>,\n",
       " <tf.Tensor: shape=(), dtype=int32, numpy=26>)"
      ]
     },
     "execution_count": 118,
     "metadata": {},
     "output_type": "execute_result"
    }
   ],
   "source": [
    "tf.reduce_min(X), tf.reduce_max(X),tf.reduce_mean(X),tf.reduce_sum(X)"
   ]
  },
  {
   "cell_type": "markdown",
   "id": "4363f233",
   "metadata": {},
   "source": [
    "### Variance dan standard deviasi"
   ]
  },
  {
   "cell_type": "code",
   "execution_count": 127,
   "id": "3f7583f5",
   "metadata": {},
   "outputs": [
    {
     "data": {
      "text/plain": [
       "<tf.Tensor: shape=(), dtype=float32, numpy=2.6925824>"
      ]
     },
     "execution_count": 127,
     "metadata": {},
     "output_type": "execute_result"
    }
   ],
   "source": [
    "tf.math.reduce_std(tf.cast(X,tf.float32))"
   ]
  },
  {
   "cell_type": "code",
   "execution_count": 134,
   "id": "cd72a3a2",
   "metadata": {},
   "outputs": [
    {
     "data": {
      "text/plain": [
       "<tf.Tensor: shape=(), dtype=float32, numpy=6.222223>"
      ]
     },
     "execution_count": 134,
     "metadata": {},
     "output_type": "execute_result"
    }
   ],
   "source": [
    "tf.math.reduce_variance(tf.cast(X,tf.float32))"
   ]
  },
  {
   "cell_type": "markdown",
   "id": "77489417",
   "metadata": {},
   "source": [
    "## Squeezing tensor (Menghapus satu demensi tunggal tensor)"
   ]
  },
  {
   "cell_type": "code",
   "execution_count": 135,
   "id": "e91058c5",
   "metadata": {},
   "outputs": [
    {
     "data": {
      "text/plain": [
       "TensorShape([2, 1, 1, 2, 2])"
      ]
     },
     "execution_count": 135,
     "metadata": {},
     "output_type": "execute_result"
    }
   ],
   "source": [
    "Z = tf.constant([[[[[1,2],[1,2]]]],[[[[1,2],[1,2]]]]])\n",
    "Z.shape"
   ]
  },
  {
   "cell_type": "code",
   "execution_count": 144,
   "id": "c3728cd4",
   "metadata": {},
   "outputs": [
    {
     "data": {
      "text/plain": [
       "TensorShape([2, 2, 2])"
      ]
     },
     "execution_count": 144,
     "metadata": {},
     "output_type": "execute_result"
    }
   ],
   "source": [
    "Y = tf.squeeze(Z)\n",
    "Y.shape"
   ]
  },
  {
   "cell_type": "code",
   "execution_count": 147,
   "id": "b49303b1",
   "metadata": {},
   "outputs": [
    {
     "data": {
      "text/plain": [
       "<tf.Tensor: shape=(7, 6), dtype=float32, numpy=\n",
       "array([[0., 1., 0., 0., 0., 0.],\n",
       "       [0., 0., 1., 0., 0., 0.],\n",
       "       [0., 0., 0., 1., 0., 0.],\n",
       "       [0., 0., 0., 0., 1., 0.],\n",
       "       [0., 0., 0., 0., 0., 1.],\n",
       "       [0., 0., 0., 0., 0., 0.],\n",
       "       [1., 0., 0., 0., 0., 0.]], dtype=float32)>"
      ]
     },
     "execution_count": 147,
     "metadata": {},
     "output_type": "execute_result"
    }
   ],
   "source": [
    "O = tf.one_hot([1,2,3,4,5,6,0],6)\n",
    "O"
   ]
  },
  {
   "cell_type": "code",
   "execution_count": 154,
   "id": "48858ff3",
   "metadata": {},
   "outputs": [
    {
     "data": {
      "text/plain": [
       "<tf.Tensor: shape=(5, 5), dtype=string, numpy=\n",
       "array([[b'F', b'B', b'B', b'B', b'B'],\n",
       "       [b'B', b'F', b'B', b'B', b'B'],\n",
       "       [b'B', b'B', b'F', b'B', b'B'],\n",
       "       [b'B', b'B', b'B', b'F', b'B'],\n",
       "       [b'B', b'B', b'B', b'B', b'F']], dtype=object)>"
      ]
     },
     "execution_count": 154,
     "metadata": {},
     "output_type": "execute_result"
    }
   ],
   "source": [
    "O_car = tf.one_hot([0,1,2,3,4],5, on_value='F', off_value='B')\n",
    "O_car"
   ]
  }
 ],
 "metadata": {
  "kernelspec": {
   "display_name": "Python 3 (ipykernel)",
   "language": "python",
   "name": "python3"
  },
  "language_info": {
   "codemirror_mode": {
    "name": "ipython",
    "version": 3
   },
   "file_extension": ".py",
   "mimetype": "text/x-python",
   "name": "python",
   "nbconvert_exporter": "python",
   "pygments_lexer": "ipython3",
   "version": "3.9.12"
  },
  "toc": {
   "base_numbering": 1,
   "nav_menu": {},
   "number_sections": true,
   "sideBar": true,
   "skip_h1_title": false,
   "title_cell": "Table of Contents",
   "title_sidebar": "Contents",
   "toc_cell": false,
   "toc_position": {
    "height": "calc(100% - 180px)",
    "left": "10px",
    "top": "150px",
    "width": "171.517px"
   },
   "toc_section_display": true,
   "toc_window_display": true
  }
 },
 "nbformat": 4,
 "nbformat_minor": 5
}
