{
 "cells": [
  {
   "cell_type": "markdown",
   "id": "a37ab33a",
   "metadata": {},
   "source": [
    "# Neural Network, Regresion Problem"
   ]
  },
  {
   "cell_type": "code",
   "execution_count": 15,
   "id": "001817a8",
   "metadata": {},
   "outputs": [
    {
     "name": "stderr",
     "output_type": "stream",
     "text": [
      "2022-10-30 07:29:26.869796: W tensorflow/stream_executor/platform/default/dso_loader.cc:64] Could not load dynamic library 'libcudart.so.11.0'; dlerror: libcudart.so.11.0: cannot open shared object file: No such file or directory\n",
      "2022-10-30 07:29:26.869842: I tensorflow/stream_executor/cuda/cudart_stub.cc:29] Ignore above cudart dlerror if you do not have a GPU set up on your machine.\n"
     ]
    }
   ],
   "source": [
    "import tensorflow as tf\n",
    "import numpy as np\n",
    "import pandas as pd\n",
    "import matplotlib.pyplot as plt"
   ]
  },
  {
   "cell_type": "code",
   "execution_count": 93,
   "id": "6bc1a605",
   "metadata": {},
   "outputs": [],
   "source": [
    "X = tf.constant(np.arange(-10, 40,3))\n",
    "y = tf.constant(X+10)"
   ]
  },
  {
   "cell_type": "code",
   "execution_count": 94,
   "id": "67156467",
   "metadata": {},
   "outputs": [
    {
     "data": {
      "text/plain": [
       "(17, 17)"
      ]
     },
     "execution_count": 94,
     "metadata": {},
     "output_type": "execute_result"
    }
   ],
   "source": [
    "len(X),len(y)"
   ]
  },
  {
   "cell_type": "code",
   "execution_count": 95,
   "id": "723c9859",
   "metadata": {},
   "outputs": [
    {
     "data": {
      "text/plain": [
       "<matplotlib.collections.PathCollection at 0x7f7982c43700>"
      ]
     },
     "execution_count": 95,
     "metadata": {},
     "output_type": "execute_result"
    },
    {
     "data": {
      "image/png": "[encoded data removed]",
      "text/plain": [
       "<Figure size 432x288 with 1 Axes>"
      ]
     },
     "metadata": {
      "needs_background": "light"
     },
     "output_type": "display_data"
    }
   ],
   "source": [
    "plt.scatter(X,y)"
   ]
  },
  {
   "cell_type": "markdown",
   "id": "c9de8102",
   "metadata": {},
   "source": [
    "## Membuat model"
   ]
  },
  {
   "cell_type": "code",
   "execution_count": 96,
   "id": "40e4ec38",
   "metadata": {},
   "outputs": [
    {
     "data": {
      "text/plain": [
       "<keras.callbacks.History at 0x7f79824d0340>"
      ]
     },
     "execution_count": 96,
     "metadata": {},
     "output_type": "execute_result"
    }
   ],
   "source": [
    "tf.random.set_seed(42)\n",
    "model = tf.keras.Sequential(\n",
    "[tf.keras.layers.Dense(1000, input_shape=[1], activation=\"relu\"),\n",
    "tf.keras.layers.Dense(1000),\n",
    " tf.keras.layers.Dense(1000),\n",
    "tf.keras.layers.Dense(1)]\n",
    ")\n",
    "\n",
    "model.compile(\n",
    "loss = tf.keras.losses.mae,\n",
    "optimizer = tf.keras.optimizers.Adam(lr=.001),\n",
    "metrics=[\"mae\"])\n",
    "\n",
    "model.fit(X,y, epochs=2000, verbose=False)"
   ]
  },
  {
   "cell_type": "code",
   "execution_count": 97,
   "id": "84148377",
   "metadata": {},
   "outputs": [
    {
     "name": "stdout",
     "output_type": "stream",
     "text": [
      "1/1 [==============================] - 0s 119ms/step - loss: 0.0550 - mae: 0.0550\n"
     ]
    },
    {
     "data": {
      "text/plain": [
       "[0.05502510070800781, 0.05502510070800781]"
      ]
     },
     "execution_count": 97,
     "metadata": {},
     "output_type": "execute_result"
    }
   ],
   "source": [
    "model.evaluate([1,2,3,4,5],[11,12,13,14,15])"
   ]
  },
  {
   "cell_type": "code",
   "execution_count": 100,
   "id": "68407358",
   "metadata": {},
   "outputs": [
    {
     "name": "stdout",
     "output_type": "stream",
     "text": [
      "1/1 [==============================] - 0s 37ms/step\n"
     ]
    },
    {
     "data": {
      "text/plain": [
       "array([[20.031633]], dtype=float32)"
      ]
     },
     "execution_count": 100,
     "metadata": {},
     "output_type": "execute_result"
    }
   ],
   "source": [
    "model.predict([10])"
   ]
  },
  {
   "cell_type": "code",
   "execution_count": 101,
   "id": "64360c83",
   "metadata": {},
   "outputs": [
    {
     "name": "stdout",
     "output_type": "stream",
     "text": [
      "1/1 [==============================] - 0s 38ms/step\n"
     ]
    },
    {
     "data": {
      "text/plain": [
       "array([[  89.5038  ],\n",
       "       [  25.014378],\n",
       "       [  28.99989 ],\n",
       "       [  34.977974],\n",
       "       [  20.031637],\n",
       "       [1058.502   ]], dtype=float32)"
      ]
     },
     "execution_count": 101,
     "metadata": {},
     "output_type": "execute_result"
    }
   ],
   "source": [
    "model.predict([78,15,19,25,10,1000])\n",
    "\n",
    "Oke, hasil diatas cukup baik, namun jika kita predict menggunakan nilai 1000, nilai jauh dari seharusnya. Sekarang kita coba menggunakan data yang lebih banyak"
   ]
  },
  {
   "cell_type": "code",
   "execution_count": 154,
   "id": "043c26a2",
   "metadata": {},
   "outputs": [
    {
     "name": "stdout",
     "output_type": "stream",
     "text": [
      "Model: \"sequential_41\"\n",
      "_________________________________________________________________\n",
      " Layer (type)                Output Shape              Param #   \n",
      "=================================================================\n",
      " dense_93 (Dense)            (None, 1000)              2000      \n",
      "                                                                 \n",
      " dense_94 (Dense)            (None, 1000)              1001000   \n",
      "                                                                 \n",
      " dense_95 (Dense)            (None, 1000)              1001000   \n",
      "                                                                 \n",
      " dense_96 (Dense)            (None, 1)                 1001      \n",
      "                                                                 \n",
      "=================================================================\n",
      "Total params: 2,005,001\n",
      "Trainable params: 2,005,001\n",
      "Non-trainable params: 0\n",
      "_________________________________________________________________\n"
     ]
    }
   ],
   "source": [
    "model.summary()"
   ]
  },
  {
   "cell_type": "markdown",
   "id": "585bed67",
   "metadata": {},
   "source": [
    "## Evaluasi dan membuat model baru dengan data yang lebih banyak"
   ]
  },
  {
   "cell_type": "code",
   "execution_count": null,
   "id": "5ef42b8a",
   "metadata": {},
   "outputs": [],
   "source": [
    "X = tf.cast(tf.constant(np.arange(-1000,1000, 5)), dtype=tf.int32)\n",
    "y = X + 10\n",
    "len(X), len(y)"
   ]
  },
  {
   "cell_type": "code",
   "execution_count": 141,
   "id": "56cceb60",
   "metadata": {},
   "outputs": [
    {
     "data": {
      "text/plain": [
       "<tf.Tensor: shape=(400,), dtype=int32, numpy=\n",
       "array([-990, -985, -980, -975, -970, -965, -960, -955, -950, -945, -940,\n",
       "       -935, -930, -925, -920, -915, -910, -905, -900, -895, -890, -885,\n",
       "       -880, -875, -870, -865, -860, -855, -850, -845, -840, -835, -830,\n",
       "       -825, -820, -815, -810, -805, -800, -795, -790, -785, -780, -775,\n",
       "       -770, -765, -760, -755, -750, -745, -740, -735, -730, -725, -720,\n",
       "       -715, -710, -705, -700, -695, -690, -685, -680, -675, -670, -665,\n",
       "       -660, -655, -650, -645, -640, -635, -630, -625, -620, -615, -610,\n",
       "       -605, -600, -595, -590, -585, -580, -575, -570, -565, -560, -555,\n",
       "       -550, -545, -540, -535, -530, -525, -520, -515, -510, -505, -500,\n",
       "       -495, -490, -485, -480, -475, -470, -465, -460, -455, -450, -445,\n",
       "       -440, -435, -430, -425, -420, -415, -410, -405, -400, -395, -390,\n",
       "       -385, -380, -375, -370, -365, -360, -355, -350, -345, -340, -335,\n",
       "       -330, -325, -320, -315, -310, -305, -300, -295, -290, -285, -280,\n",
       "       -275, -270, -265, -260, -255, -250, -245, -240, -235, -230, -225,\n",
       "       -220, -215, -210, -205, -200, -195, -190, -185, -180, -175, -170,\n",
       "       -165, -160, -155, -150, -145, -140, -135, -130, -125, -120, -115,\n",
       "       -110, -105, -100,  -95,  -90,  -85,  -80,  -75,  -70,  -65,  -60,\n",
       "        -55,  -50,  -45,  -40,  -35,  -30,  -25,  -20,  -15,  -10,   -5,\n",
       "          0,    5,   10,   15,   20,   25,   30,   35,   40,   45,   50,\n",
       "         55,   60,   65,   70,   75,   80,   85,   90,   95,  100,  105,\n",
       "        110,  115,  120,  125,  130,  135,  140,  145,  150,  155,  160,\n",
       "        165,  170,  175,  180,  185,  190,  195,  200,  205,  210,  215,\n",
       "        220,  225,  230,  235,  240,  245,  250,  255,  260,  265,  270,\n",
       "        275,  280,  285,  290,  295,  300,  305,  310,  315,  320,  325,\n",
       "        330,  335,  340,  345,  350,  355,  360,  365,  370,  375,  380,\n",
       "        385,  390,  395,  400,  405,  410,  415,  420,  425,  430,  435,\n",
       "        440,  445,  450,  455,  460,  465,  470,  475,  480,  485,  490,\n",
       "        495,  500,  505,  510,  515,  520,  525,  530,  535,  540,  545,\n",
       "        550,  555,  560,  565,  570,  575,  580,  585,  590,  595,  600,\n",
       "        605,  610,  615,  620,  625,  630,  635,  640,  645,  650,  655,\n",
       "        660,  665,  670,  675,  680,  685,  690,  695,  700,  705,  710,\n",
       "        715,  720,  725,  730,  735,  740,  745,  750,  755,  760,  765,\n",
       "        770,  775,  780,  785,  790,  795,  800,  805,  810,  815,  820,\n",
       "        825,  830,  835,  840,  845,  850,  855,  860,  865,  870,  875,\n",
       "        880,  885,  890,  895,  900,  905,  910,  915,  920,  925,  930,\n",
       "        935,  940,  945,  950,  955,  960,  965,  970,  975,  980,  985,\n",
       "        990,  995, 1000, 1005], dtype=int32)>"
      ]
     },
     "execution_count": 141,
     "metadata": {},
     "output_type": "execute_result"
    }
   ],
   "source": [
    "y"
   ]
  },
  {
   "cell_type": "code",
   "execution_count": 138,
   "id": "469b5e47",
   "metadata": {},
   "outputs": [],
   "source": [
    "from sklearn.model_selection import train_test_split as tts"
   ]
  },
  {
   "cell_type": "code",
   "execution_count": 142,
   "id": "2aa8e942",
   "metadata": {},
   "outputs": [],
   "source": [
    "try:\n",
    "    X_train,X_test, y_train, y_test = tts(X.numpy(),y.numpy(), train_size=0.733, random_state=42)\n",
    "except Exception as ex:\n",
    "    print(ex)"
   ]
  },
  {
   "cell_type": "code",
   "execution_count": 144,
   "id": "1d6666e1",
   "metadata": {},
   "outputs": [
    {
     "data": {
      "text/plain": [
       "(293, 107, 400)"
      ]
     },
     "execution_count": 144,
     "metadata": {},
     "output_type": "execute_result"
    }
   ],
   "source": [
    "len(X_train), len(X_test), len(X)"
   ]
  },
  {
   "cell_type": "code",
   "execution_count": 146,
   "id": "8d4de774",
   "metadata": {},
   "outputs": [
    {
     "data": {
      "text/plain": [
       "(293, 107, 400)"
      ]
     },
     "execution_count": 146,
     "metadata": {},
     "output_type": "execute_result"
    }
   ],
   "source": [
    "len(y_train), len(y_test), len(y)"
   ]
  },
  {
   "cell_type": "code",
   "execution_count": 153,
   "id": "4fb7fa87",
   "metadata": {},
   "outputs": [
    {
     "data": {
      "text/plain": [
       "<matplotlib.legend.Legend at 0x7f793ff0fe80>"
      ]
     },
     "execution_count": 153,
     "metadata": {},
     "output_type": "execute_result"
    },
    {
     "data": {
      "image/png": "[encoded data removed]",
      "text/plain": [
       "<Figure size 432x288 with 1 Axes>"
      ]
     },
     "metadata": {
      "needs_background": "light"
     },
     "output_type": "display_data"
    }
   ],
   "source": [
    "plt.figure()\n",
    "\n",
    "plt.title(\"Diagram data\")\n",
    "\n",
    "plt.plot(X_train, y_train, c=\"b\", label=\"Train data\")\n",
    "plt.plot(X_test, y_test, c=\"g\", label=\"Test data\")\n",
    "plt.legend()"
   ]
  },
  {
   "cell_type": "code",
   "execution_count": 169,
   "id": "119b22e3",
   "metadata": {},
   "outputs": [
    {
     "data": {
      "text/plain": [
       "<keras.callbacks.History at 0x7f795ccf08e0>"
      ]
     },
     "execution_count": 169,
     "metadata": {},
     "output_type": "execute_result"
    }
   ],
   "source": [
    "tf.random.set_seed(42)\n",
    "model2 = tf.keras.Sequential(\n",
    "[tf.keras.layers.Dense(1000, input_shape=[1], activation=\"relu\"),\n",
    " tf.keras.layers.Dense(1000),\n",
    " tf.keras.layers.Dense(1000),\n",
    " tf.keras.layers.Dense(1)\n",
    "]\n",
    ")\n",
    "\n",
    "# fit the model\n",
    "model2.compile(loss=tf.keras.losses.mae,\n",
    "          optimizer=tf.keras.optimizers.Adam(lr=.001),\n",
    "          metrics=[\"mae\"])\n",
    "\n",
    "# complie the model\n",
    "model2.fit(X_train,y_train, epochs=2000, verbose=False)"
   ]
  },
  {
   "cell_type": "code",
   "execution_count": 158,
   "id": "d2c95419",
   "metadata": {},
   "outputs": [
    {
     "name": "stdout",
     "output_type": "stream",
     "text": [
      "Model: \"sequential_43\"\n",
      "_________________________________________________________________\n",
      " Layer (type)                Output Shape              Param #   \n",
      "=================================================================\n",
      " dense_101 (Dense)           (None, 1000)              2000      \n",
      "                                                                 \n",
      " dense_102 (Dense)           (None, 1000)              1001000   \n",
      "                                                                 \n",
      " dense_103 (Dense)           (None, 1000)              1001000   \n",
      "                                                                 \n",
      " dense_104 (Dense)           (None, 1)                 1001      \n",
      "                                                                 \n",
      "=================================================================\n",
      "Total params: 2,005,001\n",
      "Trainable params: 2,005,001\n",
      "Non-trainable params: 0\n",
      "_________________________________________________________________\n"
     ]
    }
   ],
   "source": [
    "model2.summary()"
   ]
  },
  {
   "cell_type": "code",
   "execution_count": 170,
   "id": "ee21fbf8",
   "metadata": {},
   "outputs": [
    {
     "name": "stdout",
     "output_type": "stream",
     "text": [
      "4/4 [==============================] - 0s 5ms/step - loss: 4.0843 - mae: 4.0843\n"
     ]
    },
    {
     "data": {
      "text/plain": [
       "[4.084291458129883, 4.084291458129883]"
      ]
     },
     "execution_count": 170,
     "metadata": {},
     "output_type": "execute_result"
    }
   ],
   "source": [
    "model2.evaluate(X_test,y_test)"
   ]
  },
  {
   "cell_type": "code",
   "execution_count": 180,
   "id": "a849c7ce",
   "metadata": {},
   "outputs": [
    {
     "name": "stdout",
     "output_type": "stream",
     "text": [
      "4/4 [==============================] - 0s 5ms/step\n"
     ]
    },
    {
     "data": {
      "text/plain": [
       "<tf.Tensor: shape=(107,), dtype=float32, numpy=\n",
       "array([   54.876453,   409.38235 ,  -835.00574 ,    59.869488,\n",
       "        -531.3751  ,  -576.9198  ,   654.0415  ,  -526.31464 ,\n",
       "         339.47977 ,  -364.37802 ,  -956.45764 ,   813.8187  ,\n",
       "        -718.6143  ,  -637.64624 ,  -334.01495 ,  -789.46136 ,\n",
       "         399.3962  ,   888.7145  ,   164.72334 ,   933.65186 ,\n",
       "        -612.3436  ,  -926.0947  ,   963.6102  ,   364.44495 ,\n",
       "       -1002.0022  ,   988.5753  ,  -425.10403 ,   134.7651  ,\n",
       "         319.50763 ,  -475.70926 ,   983.5823  ,   -25.31493 ,\n",
       "         314.51453 ,  -713.5539  ,   169.71637 ,  -414.98303 ,\n",
       "        -430.16458 ,   718.9512  ,  -202.43979 ,  -288.47034 ,\n",
       "         913.67975 ,  -723.675   ,  -617.4042  ,  -875.48987 ,\n",
       "        -587.0409  ,   918.6727  ,  -253.04633 ,   -86.04806 ,\n",
       "        -890.67126 ,  -126.531624,  -769.21936 ,   614.09717 ,\n",
       "         698.979   ,  -647.7672  ,   878.7284  ,  -804.6428  ,\n",
       "         124.77902 ,  -131.5921  ,  -850.1873  ,  -232.80368 ,\n",
       "        -374.49908 ,   479.2849  ,   284.5563  ,  -607.2831  ,\n",
       "        -490.89087 ,  -845.12683 ,   768.88135 ,   349.46585 ,\n",
       "         978.58936 ,  -632.5858  ,   609.10406 ,  -293.53088 ,\n",
       "        -976.6996  ,  -774.2798  ,   948.63116 ,   239.61896 ,\n",
       "         144.75116 ,   853.76306 ,  -111.35019 ,   454.31967 ,\n",
       "        -986.8207  ,  -910.9132  ,    19.925217,   259.59106 ,\n",
       "         379.42407 ,  -683.1908  ,   249.60501 ,   514.2362  ,\n",
       "        -455.4671  ,  -546.5567  ,   174.7094  ,   683.99976 ,\n",
       "        -404.86206 ,   109.7999  ,   -91.10824 ,   579.1458  ,\n",
       "         873.73535 ,   908.68677 ,   204.66766 ,  -622.4646  ,\n",
       "         244.61197 ,  -445.3461  ,  -921.03424 ,  -668.00916 ,\n",
       "        -227.74301 ,  -966.57874 ,  -905.8528  ], dtype=float32)>"
      ]
     },
     "execution_count": 180,
     "metadata": {},
     "output_type": "execute_result"
    }
   ],
   "source": [
    "y_predict = tf.squeeze(model2.predict(X_test))\n",
    "y_predict"
   ]
  },
  {
   "cell_type": "code",
   "execution_count": 175,
   "id": "ee9588f4",
   "metadata": {},
   "outputs": [
    {
     "data": {
      "image/png": "[encoded data removed]",
      "text/plain": [
       "<Figure size 432x288 with 1 Axes>"
      ]
     },
     "metadata": {
      "needs_background": "light"
     },
     "output_type": "display_data"
    }
   ],
   "source": [
    "plt.figure()\n",
    "plt.plot(X_train,y_train, c=\"b\", label=\"Data Train\")\n",
    "plt.plot(X_test, y_test, c=\"g\", label=\"Data Test\")\n",
    "plt.plot (X_test, y_predict, c=\"r\", label=\"Data Predict\")\n",
    "plt.legend()\n",
    "display()"
   ]
  },
  {
   "cell_type": "code",
   "execution_count": 181,
   "id": "bd8dccd7",
   "metadata": {},
   "outputs": [
    {
     "data": {
      "text/html": [
       "<div>\n",
       "<style scoped>\n",
       "    .dataframe tbody tr th:only-of-type {\n",
       "        vertical-align: middle;\n",
       "    }\n",
       "\n",
       "    .dataframe tbody tr th {\n",
       "        vertical-align: top;\n",
       "    }\n",
       "\n",
       "    .dataframe thead th {\n",
       "        text-align: right;\n",
       "    }\n",
       "</style>\n",
       "<table border=\"1\" class=\"dataframe\">\n",
       "  <thead>\n",
       "    <tr style=\"text-align: right;\">\n",
       "      <th></th>\n",
       "      <th>Test Set</th>\n",
       "      <th>Predict</th>\n",
       "    </tr>\n",
       "  </thead>\n",
       "  <tbody>\n",
       "    <tr>\n",
       "      <th>0</th>\n",
       "      <td>55</td>\n",
       "      <td>54.876453</td>\n",
       "    </tr>\n",
       "    <tr>\n",
       "      <th>1</th>\n",
       "      <td>410</td>\n",
       "      <td>409.382355</td>\n",
       "    </tr>\n",
       "    <tr>\n",
       "      <th>2</th>\n",
       "      <td>-825</td>\n",
       "      <td>-835.005737</td>\n",
       "    </tr>\n",
       "    <tr>\n",
       "      <th>3</th>\n",
       "      <td>60</td>\n",
       "      <td>59.869488</td>\n",
       "    </tr>\n",
       "    <tr>\n",
       "      <th>4</th>\n",
       "      <td>-525</td>\n",
       "      <td>-531.375122</td>\n",
       "    </tr>\n",
       "    <tr>\n",
       "      <th>...</th>\n",
       "      <td>...</td>\n",
       "      <td>...</td>\n",
       "    </tr>\n",
       "    <tr>\n",
       "      <th>102</th>\n",
       "      <td>-910</td>\n",
       "      <td>-921.034241</td>\n",
       "    </tr>\n",
       "    <tr>\n",
       "      <th>103</th>\n",
       "      <td>-660</td>\n",
       "      <td>-668.009155</td>\n",
       "    </tr>\n",
       "    <tr>\n",
       "      <th>104</th>\n",
       "      <td>-225</td>\n",
       "      <td>-227.743011</td>\n",
       "    </tr>\n",
       "    <tr>\n",
       "      <th>105</th>\n",
       "      <td>-955</td>\n",
       "      <td>-966.578735</td>\n",
       "    </tr>\n",
       "    <tr>\n",
       "      <th>106</th>\n",
       "      <td>-895</td>\n",
       "      <td>-905.852783</td>\n",
       "    </tr>\n",
       "  </tbody>\n",
       "</table>\n",
       "<p>107 rows × 2 columns</p>\n",
       "</div>"
      ],
      "text/plain": [
       "     Test Set     Predict\n",
       "0          55   54.876453\n",
       "1         410  409.382355\n",
       "2        -825 -835.005737\n",
       "3          60   59.869488\n",
       "4        -525 -531.375122\n",
       "..        ...         ...\n",
       "102      -910 -921.034241\n",
       "103      -660 -668.009155\n",
       "104      -225 -227.743011\n",
       "105      -955 -966.578735\n",
       "106      -895 -905.852783\n",
       "\n",
       "[107 rows x 2 columns]"
      ]
     },
     "execution_count": 181,
     "metadata": {},
     "output_type": "execute_result"
    }
   ],
   "source": [
    "pd.DataFrame({\"Test Set\":y_test,\"Predict\":y_predict})"
   ]
  },
  {
   "cell_type": "code",
   "execution_count": null,
   "id": "892c1a8a",
   "metadata": {},
   "outputs": [],
   "source": []
  }
 ],
 "metadata": {
  "kernelspec": {
   "display_name": "Python 3 (ipykernel)",
   "language": "python",
   "name": "python3"
  },
  "language_info": {
   "codemirror_mode": {
    "name": "ipython",
    "version": 3
   },
   "file_extension": ".py",
   "mimetype": "text/x-python",
   "name": "python",
   "nbconvert_exporter": "python",
   "pygments_lexer": "ipython3",
   "version": "3.9.12"
  },
  "toc": {
   "base_numbering": 1,
   "nav_menu": {},
   "number_sections": true,
   "sideBar": true,
   "skip_h1_title": false,
   "title_cell": "Table of Contents",
   "title_sidebar": "Contents",
   "toc_cell": false,
   "toc_position": {},
   "toc_section_display": true,
   "toc_window_display": false
  }
 },
 "nbformat": 4,
 "nbformat_minor": 5
}
